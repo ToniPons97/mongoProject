{
 "cells": [
  {
   "cell_type": "code",
   "execution_count": null,
   "metadata": {},
   "outputs": [],
   "source": [
    "import yelp_api as ya\n",
    "import folium\n",
    "from time import sleep\n",
    "import pandas as pd\n",
    "%store -r cities_df"
   ]
  },
  {
   "cell_type": "code",
   "execution_count": null,
   "metadata": {},
   "outputs": [],
   "source": [
    "type(cities_df)"
   ]
  },
  {
   "cell_type": "code",
   "execution_count": null,
   "metadata": {},
   "outputs": [],
   "source": [
    "starbucks_list = []\n",
    "\n",
    "for i in cities_df:\n",
    "    starbucks_list.append(ya.get_coords(\"Starbucks\", i))\n",
    "    sleep(0.5)"
   ]
  },
  {
   "cell_type": "code",
   "execution_count": null,
   "metadata": {},
   "outputs": [],
   "source": [
    "for i in range(len(starbucks_list)):\n",
    "    starbucks_list[i] = starbucks_list[i][starbucks_list[i].Name == \"Starbucks\"]\n",
    "\n",
    "starbucks_list[0]"
   ]
  },
  {
   "cell_type": "code",
   "execution_count": null,
   "metadata": {},
   "outputs": [],
   "source": [
    "starbucks_dfs = pd.concat(starbucks_list)\n",
    "starbucks_dfs"
   ]
  },
  {
   "cell_type": "code",
   "execution_count": null,
   "metadata": {},
   "outputs": [],
   "source": [
    "starbucks_dfs.to_json(\"../output/starbucks.json\", orient=\"records\")"
   ]
  },
  {
   "cell_type": "code",
   "execution_count": null,
   "metadata": {},
   "outputs": [],
   "source": [
    "airports_df = []\n",
    "for i in cities_df:\n",
    "    airports_df.append(ya.get_coords(\"Airport\", i))\n",
    "    sleep(0.5)"
   ]
  },
  {
   "cell_type": "code",
   "execution_count": null,
   "metadata": {},
   "outputs": [],
   "source": []
  },
  {
   "cell_type": "code",
   "execution_count": null,
   "metadata": {},
   "outputs": [],
   "source": []
  },
  {
   "cell_type": "code",
   "execution_count": null,
   "metadata": {},
   "outputs": [],
   "source": []
  },
  {
   "cell_type": "code",
   "execution_count": null,
   "metadata": {},
   "outputs": [],
   "source": [
    "#df_schools = ya.get_coords(\"Schools\", \"Los Angeles\")\n",
    "#df_web_design = ya.get_coords(\"Web Design\", \"Los Angeles\")\n",
    "#df_web_design"
   ]
  },
  {
   "cell_type": "code",
   "execution_count": null,
   "metadata": {},
   "outputs": [],
   "source": [
    "def generateBaseMap(default_location=[34.0397, -118.2703], default_zoom_start=12):\n",
    "    base_map = folium.Map(location=default_location, control_scale=True, zoom_start=default_zoom_start)\n",
    "    return base_map"
   ]
  },
  {
   "cell_type": "code",
   "execution_count": null,
   "metadata": {
    "scrolled": true
   },
   "outputs": [],
   "source": []
  },
  {
   "cell_type": "code",
   "execution_count": null,
   "metadata": {},
   "outputs": [],
   "source": [
    "df_Airport\n",
    "df_Vegan = ya.get_coords(\"Vegan Restaurant\", \"Los Angeles\")"
   ]
  },
  {
   "cell_type": "code",
   "execution_count": null,
   "metadata": {
    "scrolled": true
   },
   "outputs": [],
   "source": [
    "base_map = generateBaseMap()\n",
    "base_map.add_child(folium.ClickForMarker(popup='Potential Location'))\n",
    "for i in df_starbucks[\"Coordinates\"]:\n",
    "    folium.Marker(i[::-1], icon=folium.Icon(prefix=\"fa\",icon=\"coffee\", color=\"darkred\") ,popup=\"Starbucks\").add_to(base_map)\n",
    "for i in df_schools[\"Coordinates\"]:\n",
    "    folium.Marker(i[::-1], icon=folium.Icon(prefix=\"fa\",icon=\"graduation-cap\", color=\"blue\") ,popup=\"Schools\").add_to(base_map)\n",
    "for i in df_web_design[\"Coordinates\"]:\n",
    "    folium.Marker(i[::-1], icon=folium.Icon(prefix=\"fa\",icon=\"paint-brush\", color=\"green\") ,popup=\"Web Design\").add_to(base_map)\n",
    "for i in df_Airport[\"Coordinates\"]:\n",
    "    folium.Marker(i[::-1], icon=folium.Icon(prefix=\"fa\",icon=\"plane\", color=\"red\") ,popup=\"Airport\").add_to(base_map)\n",
    "for i in df_Vegan[\"Coordinates\"]:\n",
    "    folium.Marker(i[::-1], icon=folium.Icon(prefix=\"fa\",icon=\"leaf\", color=\"darkblue\") ,popup=\"Vegan food\").add_to(base_map)\n",
    "base_map"
   ]
  },
  {
   "cell_type": "code",
   "execution_count": null,
   "metadata": {},
   "outputs": [],
   "source": []
  },
  {
   "cell_type": "code",
   "execution_count": null,
   "metadata": {},
   "outputs": [],
   "source": [
    "df_Vegan"
   ]
  },
  {
   "cell_type": "code",
   "execution_count": null,
   "metadata": {},
   "outputs": [],
   "source": []
  }
 ],
 "metadata": {
  "kernelspec": {
   "display_name": "Python 3",
   "language": "python",
   "name": "python3"
  },
  "language_info": {
   "codemirror_mode": {
    "name": "ipython",
    "version": 3
   },
   "file_extension": ".py",
   "mimetype": "text/x-python",
   "name": "python",
   "nbconvert_exporter": "python",
   "pygments_lexer": "ipython3",
   "version": "3.7.5"
  }
 },
 "nbformat": 4,
 "nbformat_minor": 2
}
