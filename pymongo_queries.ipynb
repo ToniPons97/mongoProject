{
 "cells": [
  {
   "cell_type": "code",
   "execution_count": 1,
   "metadata": {},
   "outputs": [],
   "source": [
    "from pymongo import MongoClient\n",
    "import pandas as pd"
   ]
  },
  {
   "cell_type": "code",
   "execution_count": 2,
   "metadata": {},
   "outputs": [],
   "source": [
    "def connectCollection(database, collection):\n",
    "    client = MongoClient()\n",
    "    db = client[database]\n",
    "    coll = db[collection]\n",
    "    return db, coll"
   ]
  },
  {
   "cell_type": "code",
   "execution_count": 3,
   "metadata": {},
   "outputs": [],
   "source": [
    "db, coll = connectCollection(\"mongoProjectDB\", \"companies\")"
   ]
  },
  {
   "cell_type": "code",
   "execution_count": 4,
   "metadata": {},
   "outputs": [],
   "source": [
    "rest = list(coll.find({\"offices.country_code\":\"USA\"}))\n"
   ]
  },
  {
   "cell_type": "code",
   "execution_count": 5,
   "metadata": {},
   "outputs": [],
   "source": [
    "def getLocation(company):\n",
    "    for i in range(len(company[\"offices\"])):\n",
    "        longitude = company['offices'][i]['longitude']\n",
    "        latitude = company['offices'][i]['latitude']\n",
    "        loc = {\n",
    "            'type':'Point',\n",
    "            'coordinates':[longitude, latitude]\n",
    "        }\n",
    "    return loc"
   ]
  },
  {
   "cell_type": "code",
   "execution_count": 6,
   "metadata": {},
   "outputs": [],
   "source": [
    "for company in rest:\n",
    "    value = {\"$set\": {'location':getLocation(company)}}\n",
    "    coll.update_one(company,value)"
   ]
  },
  {
   "cell_type": "code",
   "execution_count": 7,
   "metadata": {},
   "outputs": [],
   "source": [
    "for company in rest:\n",
    "    value = {\"$unset\": {'offices.latitude':''}}\n",
    "    value = {\"$unset\": {'offices.longitude':''}}\n",
    "    coll.update_one(company,value)"
   ]
  },
  {
   "cell_type": "code",
   "execution_count": 8,
   "metadata": {},
   "outputs": [],
   "source": [
    "pipeline = [\n",
    "    {\"$unwind\":\"$offices\"},\n",
    "    {\"$match\":{\n",
    "        \"$and\":[\n",
    "            {\"offices.country_code\":\"USA\"},\n",
    "            {'$or':[\n",
    "                {'offices.latitude':{'$ne':None}},\n",
    "                {'offices.longitude':{'$ne':None}}\n",
    "            ]},\n",
    "            {\"funding_rounds.raised_amount\":{\n",
    "                \"$gte\":1000000\n",
    "            }},\n",
    "            {\"deadpooled_year\":None}\n",
    "        ]\n",
    "    }\n",
    "    }\n",
    "]"
   ]
  },
  {
   "cell_type": "code",
   "execution_count": 9,
   "metadata": {},
   "outputs": [],
   "source": [
    "query = list(coll.aggregate(pipeline))"
   ]
  },
  {
   "cell_type": "code",
   "execution_count": 10,
   "metadata": {},
   "outputs": [],
   "source": [
    "filtered_df = pd.DataFrame(query)"
   ]
  },
  {
   "cell_type": "code",
   "execution_count": 11,
   "metadata": {},
   "outputs": [
    {
     "data": {
      "text/plain": [
       "Index(['_id', 'name', 'permalink', 'crunchbase_url', 'homepage_url',\n",
       "       'blog_url', 'blog_feed_url', 'twitter_username', 'category_code',\n",
       "       'number_of_employees', 'founded_year', 'founded_month', 'founded_day',\n",
       "       'deadpooled_year', 'deadpooled_month', 'deadpooled_day',\n",
       "       'deadpooled_url', 'tag_list', 'alias_list', 'email_address',\n",
       "       'phone_number', 'description', 'created_at', 'updated_at', 'overview',\n",
       "       'image', 'products', 'relationships', 'competitions', 'providerships',\n",
       "       'total_money_raised', 'funding_rounds', 'investments', 'acquisition',\n",
       "       'acquisitions', 'offices', 'milestones', 'ipo', 'video_embeds',\n",
       "       'screenshots', 'external_links', 'partners', 'location'],\n",
       "      dtype='object')"
      ]
     },
     "execution_count": 11,
     "metadata": {},
     "output_type": "execute_result"
    }
   ],
   "source": [
    "filtered_df.columns"
   ]
  },
  {
   "cell_type": "code",
   "execution_count": 12,
   "metadata": {},
   "outputs": [
    {
     "name": "stdout",
     "output_type": "stream",
     "text": [
      "{'type': 'Point', 'coordinates': [None, None]}\n",
      "{'type': 'Point', 'coordinates': [None, None]}\n",
      "{'type': 'Point', 'coordinates': [None, None]}\n",
      "{'type': 'Point', 'coordinates': [None, None]}\n",
      "{'type': 'Point', 'coordinates': [None, None]}\n",
      "{'type': 'Point', 'coordinates': [None, None]}\n",
      "{'type': 'Point', 'coordinates': [None, None]}\n",
      "{'type': 'Point', 'coordinates': [None, None]}\n",
      "{'type': 'Point', 'coordinates': [None, None]}\n",
      "{'type': 'Point', 'coordinates': [None, None]}\n",
      "{'type': 'Point', 'coordinates': [None, None]}\n",
      "{'type': 'Point', 'coordinates': [None, None]}\n",
      "{'type': 'Point', 'coordinates': [None, None]}\n",
      "{'type': 'Point', 'coordinates': [None, None]}\n",
      "{'type': 'Point', 'coordinates': [None, None]}\n",
      "{'type': 'Point', 'coordinates': [None, None]}\n",
      "{'type': 'Point', 'coordinates': [None, None]}\n",
      "{'type': 'Point', 'coordinates': [None, None]}\n",
      "{'type': 'Point', 'coordinates': [None, None]}\n",
      "{'type': 'Point', 'coordinates': [None, None]}\n",
      "{'type': 'Point', 'coordinates': [None, None]}\n",
      "{'type': 'Point', 'coordinates': [None, None]}\n",
      "{'type': 'Point', 'coordinates': [None, None]}\n",
      "{'type': 'Point', 'coordinates': [None, None]}\n",
      "{'type': 'Point', 'coordinates': [None, None]}\n",
      "{'type': 'Point', 'coordinates': [None, None]}\n",
      "{'type': 'Point', 'coordinates': [None, None]}\n",
      "{'type': 'Point', 'coordinates': [None, None]}\n",
      "{'type': 'Point', 'coordinates': [None, None]}\n",
      "{'type': 'Point', 'coordinates': [None, None]}\n",
      "{'type': 'Point', 'coordinates': [None, None]}\n",
      "{'type': 'Point', 'coordinates': [None, None]}\n",
      "{'type': 'Point', 'coordinates': [None, None]}\n",
      "{'type': 'Point', 'coordinates': [None, None]}\n",
      "{'type': 'Point', 'coordinates': [None, None]}\n",
      "{'type': 'Point', 'coordinates': [None, None]}\n",
      "{'type': 'Point', 'coordinates': [None, None]}\n",
      "{'type': 'Point', 'coordinates': [None, None]}\n",
      "{'type': 'Point', 'coordinates': [None, None]}\n",
      "{'type': 'Point', 'coordinates': [None, None]}\n",
      "{'type': 'Point', 'coordinates': [None, None]}\n",
      "{'type': 'Point', 'coordinates': [None, None]}\n",
      "{'type': 'Point', 'coordinates': [None, None]}\n",
      "{'type': 'Point', 'coordinates': [None, None]}\n",
      "{'type': 'Point', 'coordinates': [None, None]}\n",
      "{'type': 'Point', 'coordinates': [None, None]}\n",
      "{'type': 'Point', 'coordinates': [None, None]}\n",
      "{'type': 'Point', 'coordinates': [None, None]}\n",
      "{'type': 'Point', 'coordinates': [None, None]}\n",
      "{'type': 'Point', 'coordinates': [None, None]}\n",
      "{'type': 'Point', 'coordinates': [None, None]}\n",
      "{'type': 'Point', 'coordinates': [None, None]}\n",
      "{'type': 'Point', 'coordinates': [None, None]}\n",
      "{'type': 'Point', 'coordinates': [None, None]}\n",
      "{'type': 'Point', 'coordinates': [None, None]}\n",
      "{'type': 'Point', 'coordinates': [None, None]}\n",
      "{'type': 'Point', 'coordinates': [None, None]}\n",
      "{'type': 'Point', 'coordinates': [None, None]}\n",
      "{'type': 'Point', 'coordinates': [None, None]}\n",
      "{'type': 'Point', 'coordinates': [None, None]}\n",
      "{'type': 'Point', 'coordinates': [None, None]}\n",
      "{'type': 'Point', 'coordinates': [None, None]}\n",
      "{'type': 'Point', 'coordinates': [None, None]}\n",
      "{'type': 'Point', 'coordinates': [None, None]}\n",
      "{'type': 'Point', 'coordinates': [None, None]}\n",
      "{'type': 'Point', 'coordinates': [None, None]}\n",
      "{'type': 'Point', 'coordinates': [None, None]}\n",
      "{'type': 'Point', 'coordinates': [None, None]}\n",
      "{'type': 'Point', 'coordinates': [None, None]}\n",
      "{'type': 'Point', 'coordinates': [None, None]}\n",
      "{'type': 'Point', 'coordinates': [None, None]}\n",
      "{'type': 'Point', 'coordinates': [None, None]}\n",
      "{'type': 'Point', 'coordinates': [None, None]}\n",
      "{'type': 'Point', 'coordinates': [None, None]}\n",
      "{'type': 'Point', 'coordinates': [None, None]}\n",
      "{'type': 'Point', 'coordinates': [None, None]}\n",
      "{'type': 'Point', 'coordinates': [None, None]}\n",
      "{'type': 'Point', 'coordinates': [None, None]}\n",
      "{'type': 'Point', 'coordinates': [None, None]}\n",
      "{'type': 'Point', 'coordinates': [None, None]}\n",
      "{'type': 'Point', 'coordinates': [None, None]}\n",
      "{'type': 'Point', 'coordinates': [None, None]}\n",
      "{'type': 'Point', 'coordinates': [None, None]}\n",
      "{'type': 'Point', 'coordinates': [None, None]}\n",
      "{'type': 'Point', 'coordinates': [None, None]}\n",
      "{'type': 'Point', 'coordinates': [None, None]}\n",
      "{'type': 'Point', 'coordinates': [None, None]}\n",
      "{'type': 'Point', 'coordinates': [None, None]}\n",
      "{'type': 'Point', 'coordinates': [None, None]}\n",
      "{'type': 'Point', 'coordinates': [None, None]}\n",
      "{'type': 'Point', 'coordinates': [None, None]}\n",
      "{'type': 'Point', 'coordinates': [None, None]}\n",
      "{'type': 'Point', 'coordinates': [None, None]}\n",
      "{'type': 'Point', 'coordinates': [None, None]}\n",
      "{'type': 'Point', 'coordinates': [None, None]}\n",
      "{'type': 'Point', 'coordinates': [None, None]}\n",
      "{'type': 'Point', 'coordinates': [None, None]}\n",
      "{'type': 'Point', 'coordinates': [None, None]}\n",
      "{'type': 'Point', 'coordinates': [None, None]}\n",
      "{'type': 'Point', 'coordinates': [None, None]}\n",
      "{'type': 'Point', 'coordinates': [None, None]}\n",
      "{'type': 'Point', 'coordinates': [None, None]}\n",
      "{'type': 'Point', 'coordinates': [None, None]}\n",
      "{'type': 'Point', 'coordinates': [None, None]}\n",
      "{'type': 'Point', 'coordinates': [None, None]}\n",
      "{'type': 'Point', 'coordinates': [None, None]}\n",
      "{'type': 'Point', 'coordinates': [None, None]}\n",
      "{'type': 'Point', 'coordinates': [None, None]}\n",
      "{'type': 'Point', 'coordinates': [None, None]}\n",
      "{'type': 'Point', 'coordinates': [None, None]}\n",
      "{'type': 'Point', 'coordinates': [None, None]}\n",
      "{'type': 'Point', 'coordinates': [None, None]}\n",
      "{'type': 'Point', 'coordinates': [None, None]}\n",
      "{'type': 'Point', 'coordinates': [None, None]}\n",
      "{'type': 'Point', 'coordinates': [None, None]}\n",
      "{'type': 'Point', 'coordinates': [None, None]}\n",
      "{'type': 'Point', 'coordinates': [None, None]}\n",
      "{'type': 'Point', 'coordinates': [None, None]}\n",
      "{'type': 'Point', 'coordinates': [None, None]}\n",
      "{'type': 'Point', 'coordinates': [None, None]}\n",
      "{'type': 'Point', 'coordinates': [None, None]}\n",
      "{'type': 'Point', 'coordinates': [None, None]}\n",
      "{'type': 'Point', 'coordinates': [None, None]}\n",
      "{'type': 'Point', 'coordinates': [None, None]}\n",
      "{'type': 'Point', 'coordinates': [None, None]}\n",
      "{'type': 'Point', 'coordinates': [None, None]}\n",
      "{'type': 'Point', 'coordinates': [None, None]}\n",
      "{'type': 'Point', 'coordinates': [None, None]}\n",
      "{'type': 'Point', 'coordinates': [None, None]}\n",
      "{'type': 'Point', 'coordinates': [None, None]}\n",
      "{'type': 'Point', 'coordinates': [None, None]}\n",
      "{'type': 'Point', 'coordinates': [None, None]}\n",
      "{'type': 'Point', 'coordinates': [None, None]}\n",
      "{'type': 'Point', 'coordinates': [None, None]}\n",
      "{'type': 'Point', 'coordinates': [None, None]}\n",
      "{'type': 'Point', 'coordinates': [None, None]}\n",
      "{'type': 'Point', 'coordinates': [None, None]}\n",
      "{'type': 'Point', 'coordinates': [None, None]}\n",
      "{'type': 'Point', 'coordinates': [None, None]}\n",
      "{'type': 'Point', 'coordinates': [None, None]}\n",
      "{'type': 'Point', 'coordinates': [None, None]}\n",
      "{'type': 'Point', 'coordinates': [None, None]}\n",
      "{'type': 'Point', 'coordinates': [None, None]}\n",
      "{'type': 'Point', 'coordinates': [None, None]}\n",
      "{'type': 'Point', 'coordinates': [None, None]}\n",
      "{'type': 'Point', 'coordinates': [None, None]}\n",
      "{'type': 'Point', 'coordinates': [None, None]}\n",
      "{'type': 'Point', 'coordinates': [None, None]}\n",
      "{'type': 'Point', 'coordinates': [None, None]}\n",
      "{'type': 'Point', 'coordinates': [None, None]}\n",
      "{'type': 'Point', 'coordinates': [None, None]}\n",
      "{'type': 'Point', 'coordinates': [None, None]}\n",
      "{'type': 'Point', 'coordinates': [None, None]}\n",
      "{'type': 'Point', 'coordinates': [None, None]}\n",
      "{'type': 'Point', 'coordinates': [None, None]}\n",
      "{'type': 'Point', 'coordinates': [None, None]}\n",
      "{'type': 'Point', 'coordinates': [None, None]}\n",
      "{'type': 'Point', 'coordinates': [None, None]}\n",
      "{'type': 'Point', 'coordinates': [None, None]}\n",
      "{'type': 'Point', 'coordinates': [None, None]}\n",
      "{'type': 'Point', 'coordinates': [None, None]}\n",
      "{'type': 'Point', 'coordinates': [None, None]}\n",
      "{'type': 'Point', 'coordinates': [None, None]}\n",
      "{'type': 'Point', 'coordinates': [None, None]}\n",
      "{'type': 'Point', 'coordinates': [None, None]}\n",
      "{'type': 'Point', 'coordinates': [None, None]}\n",
      "{'type': 'Point', 'coordinates': [None, None]}\n",
      "{'type': 'Point', 'coordinates': [None, None]}\n",
      "{'type': 'Point', 'coordinates': [None, None]}\n",
      "{'type': 'Point', 'coordinates': [None, None]}\n",
      "{'type': 'Point', 'coordinates': [None, None]}\n",
      "{'type': 'Point', 'coordinates': [None, None]}\n",
      "{'type': 'Point', 'coordinates': [None, None]}\n",
      "{'type': 'Point', 'coordinates': [None, None]}\n",
      "{'type': 'Point', 'coordinates': [None, None]}\n",
      "{'type': 'Point', 'coordinates': [None, None]}\n",
      "{'type': 'Point', 'coordinates': [None, None]}\n",
      "{'type': 'Point', 'coordinates': [None, None]}\n",
      "{'type': 'Point', 'coordinates': [None, None]}\n",
      "{'type': 'Point', 'coordinates': [None, None]}\n",
      "{'type': 'Point', 'coordinates': [None, None]}\n",
      "{'type': 'Point', 'coordinates': [None, None]}\n",
      "{'type': 'Point', 'coordinates': [None, None]}\n",
      "{'type': 'Point', 'coordinates': [None, None]}\n",
      "{'type': 'Point', 'coordinates': [None, None]}\n",
      "{'type': 'Point', 'coordinates': [None, None]}\n",
      "{'type': 'Point', 'coordinates': [None, None]}\n",
      "{'type': 'Point', 'coordinates': [None, None]}\n",
      "{'type': 'Point', 'coordinates': [None, None]}\n",
      "{'type': 'Point', 'coordinates': [None, None]}\n",
      "{'type': 'Point', 'coordinates': [None, None]}\n",
      "{'type': 'Point', 'coordinates': [None, None]}\n",
      "{'type': 'Point', 'coordinates': [None, None]}\n",
      "{'type': 'Point', 'coordinates': [None, None]}\n",
      "{'type': 'Point', 'coordinates': [None, None]}\n",
      "{'type': 'Point', 'coordinates': [None, None]}\n",
      "{'type': 'Point', 'coordinates': [None, None]}\n",
      "{'type': 'Point', 'coordinates': [None, None]}\n",
      "{'type': 'Point', 'coordinates': [None, None]}\n",
      "{'type': 'Point', 'coordinates': [None, None]}\n",
      "{'type': 'Point', 'coordinates': [None, None]}\n",
      "{'type': 'Point', 'coordinates': [None, None]}\n",
      "{'type': 'Point', 'coordinates': [None, None]}\n",
      "{'type': 'Point', 'coordinates': [None, None]}\n",
      "{'type': 'Point', 'coordinates': [None, None]}\n",
      "{'type': 'Point', 'coordinates': [None, None]}\n",
      "{'type': 'Point', 'coordinates': [None, None]}\n",
      "{'type': 'Point', 'coordinates': [None, None]}\n",
      "{'type': 'Point', 'coordinates': [None, None]}\n",
      "{'type': 'Point', 'coordinates': [None, None]}\n",
      "{'type': 'Point', 'coordinates': [None, None]}\n",
      "{'type': 'Point', 'coordinates': [None, None]}\n",
      "{'type': 'Point', 'coordinates': [None, None]}\n",
      "{'type': 'Point', 'coordinates': [None, None]}\n",
      "{'type': 'Point', 'coordinates': [None, None]}\n",
      "{'type': 'Point', 'coordinates': [None, None]}\n",
      "{'type': 'Point', 'coordinates': [None, None]}\n",
      "{'type': 'Point', 'coordinates': [None, None]}\n",
      "{'type': 'Point', 'coordinates': [None, None]}\n",
      "{'type': 'Point', 'coordinates': [None, None]}\n",
      "{'type': 'Point', 'coordinates': [None, None]}\n",
      "{'type': 'Point', 'coordinates': [None, None]}\n",
      "{'type': 'Point', 'coordinates': [None, None]}\n",
      "{'type': 'Point', 'coordinates': [None, None]}\n",
      "{'type': 'Point', 'coordinates': [None, None]}\n",
      "{'type': 'Point', 'coordinates': [None, None]}\n",
      "{'type': 'Point', 'coordinates': [None, None]}\n",
      "{'type': 'Point', 'coordinates': [None, None]}\n",
      "{'type': 'Point', 'coordinates': [None, None]}\n",
      "{'type': 'Point', 'coordinates': [None, None]}\n",
      "{'type': 'Point', 'coordinates': [None, None]}\n",
      "{'type': 'Point', 'coordinates': [None, None]}\n",
      "{'type': 'Point', 'coordinates': [None, None]}\n",
      "{'type': 'Point', 'coordinates': [None, None]}\n",
      "{'type': 'Point', 'coordinates': [None, None]}\n",
      "{'type': 'Point', 'coordinates': [None, None]}\n",
      "{'type': 'Point', 'coordinates': [None, None]}\n",
      "{'type': 'Point', 'coordinates': [None, None]}\n",
      "{'type': 'Point', 'coordinates': [None, None]}\n",
      "{'type': 'Point', 'coordinates': [None, None]}\n",
      "{'type': 'Point', 'coordinates': [None, None]}\n",
      "{'type': 'Point', 'coordinates': [None, None]}\n",
      "{'type': 'Point', 'coordinates': [None, None]}\n",
      "{'type': 'Point', 'coordinates': [None, None]}\n",
      "{'type': 'Point', 'coordinates': [None, None]}\n",
      "{'type': 'Point', 'coordinates': [None, None]}\n",
      "{'type': 'Point', 'coordinates': [None, None]}\n",
      "{'type': 'Point', 'coordinates': [None, None]}\n",
      "{'type': 'Point', 'coordinates': [None, None]}\n",
      "{'type': 'Point', 'coordinates': [None, None]}\n",
      "{'type': 'Point', 'coordinates': [None, None]}\n",
      "{'type': 'Point', 'coordinates': [None, None]}\n",
      "{'type': 'Point', 'coordinates': [None, None]}\n",
      "{'type': 'Point', 'coordinates': [None, None]}\n",
      "{'type': 'Point', 'coordinates': [None, None]}\n",
      "{'type': 'Point', 'coordinates': [None, None]}\n",
      "{'type': 'Point', 'coordinates': [None, None]}\n",
      "{'type': 'Point', 'coordinates': [None, None]}\n",
      "{'type': 'Point', 'coordinates': [None, None]}\n",
      "{'type': 'Point', 'coordinates': [None, None]}\n",
      "{'type': 'Point', 'coordinates': [None, None]}\n",
      "{'type': 'Point', 'coordinates': [None, None]}\n",
      "{'type': 'Point', 'coordinates': [None, None]}\n",
      "{'type': 'Point', 'coordinates': [None, None]}\n",
      "{'type': 'Point', 'coordinates': [None, None]}\n",
      "{'type': 'Point', 'coordinates': [None, None]}\n",
      "{'type': 'Point', 'coordinates': [None, None]}\n"
     ]
    }
   ],
   "source": [
    "for i in filtered_df[\"location\"]:\n",
    "    if i == {\"type\": \"Point\", \"coordinates\": [None, None]}:\n",
    "        print(i)"
   ]
  },
  {
   "cell_type": "code",
   "execution_count": 13,
   "metadata": {},
   "outputs": [],
   "source": [
    "filtered_df = filtered_df.loc[filtered_df[\"location\"] != {'type': 'Point', 'coordinates': [None, None]}]"
   ]
  },
  {
   "cell_type": "code",
   "execution_count": 14,
   "metadata": {},
   "outputs": [],
   "source": [
    "filtered_df = filtered_df.drop([\"_id\"], axis=1)"
   ]
  },
  {
   "cell_type": "code",
   "execution_count": 15,
   "metadata": {},
   "outputs": [
    {
     "data": {
      "text/plain": [
       "0       {'type': 'Point', 'coordinates': [-118.393064,...\n",
       "1       {'type': 'Point', 'coordinates': [-122.394523,...\n",
       "2       {'type': 'Point', 'coordinates': [-122.169472,...\n",
       "3       {'type': 'Point', 'coordinates': [-117.081406,...\n",
       "4       {'type': 'Point', 'coordinates': [-122.154369,...\n",
       "                              ...                        \n",
       "2405    {'type': 'Point', 'coordinates': [-117.607717,...\n",
       "2406    {'type': 'Point', 'coordinates': [-122.181753,...\n",
       "2407    {'type': 'Point', 'coordinates': [-121.92917, ...\n",
       "2408    {'type': 'Point', 'coordinates': [-121.998513,...\n",
       "2409    {'type': 'Point', 'coordinates': [-122.151599,...\n",
       "Name: location, Length: 2143, dtype: object"
      ]
     },
     "execution_count": 15,
     "metadata": {},
     "output_type": "execute_result"
    }
   ],
   "source": [
    "filtered_df[\"location\"]"
   ]
  },
  {
   "cell_type": "code",
   "execution_count": 16,
   "metadata": {},
   "outputs": [],
   "source": [
    "cities_df = []\n",
    "for e in filtered_df[\"offices\"]:\n",
    "    cities_df.append(e[\"city\"])\n"
   ]
  },
  {
   "cell_type": "code",
   "execution_count": 17,
   "metadata": {},
   "outputs": [],
   "source": [
    "cities_df = set(cities_df)"
   ]
  },
  {
   "cell_type": "code",
   "execution_count": 18,
   "metadata": {},
   "outputs": [],
   "source": [
    "cities_df.remove(\"\")\n",
    "cities_df.remove(None)"
   ]
  },
  {
   "cell_type": "code",
   "execution_count": 19,
   "metadata": {},
   "outputs": [],
   "source": [
    "cities_df = list(cities_df)"
   ]
  },
  {
   "cell_type": "code",
   "execution_count": 20,
   "metadata": {},
   "outputs": [
    {
     "data": {
      "text/plain": [
       "415"
      ]
     },
     "execution_count": 20,
     "metadata": {},
     "output_type": "execute_result"
    }
   ],
   "source": [
    "len(cities_df)"
   ]
  },
  {
   "cell_type": "code",
   "execution_count": 21,
   "metadata": {},
   "outputs": [],
   "source": [
    "#cities_df.remove(\"Tartu\")"
   ]
  },
  {
   "cell_type": "code",
   "execution_count": 22,
   "metadata": {},
   "outputs": [
    {
     "name": "stdout",
     "output_type": "stream",
     "text": [
      "Stored 'cities_df' (list)\n"
     ]
    },
    {
     "data": {
      "text/plain": [
       "415"
      ]
     },
     "execution_count": 22,
     "metadata": {},
     "output_type": "execute_result"
    }
   ],
   "source": [
    "%store cities_df\n",
    "len(cities_df)"
   ]
  },
  {
   "cell_type": "code",
   "execution_count": 23,
   "metadata": {},
   "outputs": [
    {
     "data": {
      "text/plain": [
       "{'type': 'Point', 'coordinates': [-118.393064, 34.090368]}"
      ]
     },
     "execution_count": 23,
     "metadata": {},
     "output_type": "execute_result"
    }
   ],
   "source": [
    "filtered_df[\"location\"][0]"
   ]
  },
  {
   "cell_type": "code",
   "execution_count": 24,
   "metadata": {},
   "outputs": [],
   "source": [
    "filtered_df.to_json(\"./output/companies_clean.json\", orient=\"records\")"
   ]
  },
  {
   "cell_type": "code",
   "execution_count": 35,
   "metadata": {},
   "outputs": [],
   "source": [
    "db, companies_coll = connectCollection(\"mongoProjectDB\", \"companies_clean\")\n",
    "q = list(companies_coll.find())\n",
    "companies_df = pd.DataFrame(q)"
   ]
  },
  {
   "cell_type": "code",
   "execution_count": 26,
   "metadata": {},
   "outputs": [],
   "source": [
    "companies_df = pd.concat([companies_df.drop(['location'], axis=1), companies_df['location'].apply(pd.Series)], axis=1)"
   ]
  },
  {
   "cell_type": "code",
   "execution_count": 46,
   "metadata": {},
   "outputs": [],
   "source": [
    "db, starbucks_coll = connectCollection(\"mongoProjectDB\", \"starbucks\")\n",
    "db, schools_coll = connectCollection(\"mongoProjectDB\", \"schools\")\n",
    "db, vegan_coll = connectCollection(\"mongoProjectDB\", \"vegan\")\n",
    "db, airports_coll = connectCollection(\"mongoProjectDB\", \"airports\")\n",
    "starbucks_q = list(starbucks_coll.find())\n",
    "schools_q = list(schools_coll.find())\n",
    "vegan_q = list(vegan_coll.find())\n",
    "airports_q = list(starbucks_coll.find())"
   ]
  },
  {
   "cell_type": "code",
   "execution_count": 36,
   "metadata": {},
   "outputs": [],
   "source": [
    "def geoquery(geoindex,distance,col):\n",
    "    points= col.find(\n",
    "        {\"location\":\n",
    "         {\"$near\":\n",
    "          {\"$geometry\":\n",
    "           geoindex,\n",
    "           \"$maxDistance\":distance\n",
    "            }\n",
    "        }\n",
    "    })\n",
    "    return list(points)"
   ]
  },
  {
   "cell_type": "code",
   "execution_count": null,
   "metadata": {},
   "outputs": [],
   "source": [
    "geoquery()"
   ]
  },
  {
   "cell_type": "code",
   "execution_count": null,
   "metadata": {},
   "outputs": [],
   "source": []
  },
  {
   "cell_type": "code",
   "execution_count": null,
   "metadata": {},
   "outputs": [],
   "source": []
  },
  {
   "cell_type": "code",
   "execution_count": null,
   "metadata": {},
   "outputs": [],
   "source": []
  },
  {
   "cell_type": "code",
   "execution_count": null,
   "metadata": {},
   "outputs": [],
   "source": []
  },
  {
   "cell_type": "code",
   "execution_count": null,
   "metadata": {},
   "outputs": [],
   "source": []
  }
 ],
 "metadata": {
  "kernelspec": {
   "display_name": "Python 3",
   "language": "python",
   "name": "python3"
  },
  "language_info": {
   "codemirror_mode": {
    "name": "ipython",
    "version": 3
   },
   "file_extension": ".py",
   "mimetype": "text/x-python",
   "name": "python",
   "nbconvert_exporter": "python",
   "pygments_lexer": "ipython3",
   "version": "3.7.5"
  }
 },
 "nbformat": 4,
 "nbformat_minor": 2
}
