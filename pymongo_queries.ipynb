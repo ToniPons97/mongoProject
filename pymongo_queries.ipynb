{
 "cells": [
  {
   "cell_type": "code",
   "execution_count": 22,
   "metadata": {},
   "outputs": [],
   "source": [
    "from pymongo import MongoClient\n",
    "import pandas as pd"
   ]
  },
  {
   "cell_type": "code",
   "execution_count": 12,
   "metadata": {},
   "outputs": [],
   "source": [
    "def connectCollection(database, collection):\n",
    "    client = MongoClient()\n",
    "    db = client[database]\n",
    "    coll = db[collection]\n",
    "    return db, coll"
   ]
  },
  {
   "cell_type": "code",
   "execution_count": 13,
   "metadata": {},
   "outputs": [],
   "source": [
    "db, coll = connectCollection(\"mongoProjectDB\", \"companies\")"
   ]
  },
  {
   "cell_type": "code",
   "execution_count": 18,
   "metadata": {},
   "outputs": [],
   "source": [
    "rest = list(coll.find({\"offices.city\": \"Los Angeles\"}))\n"
   ]
  },
  {
   "cell_type": "code",
   "execution_count": 15,
   "metadata": {},
   "outputs": [],
   "source": [
    "def getLocation(company):\n",
    "    location_empty = []\n",
    "    for i in range(len(company[\"offices\"])):\n",
    "        longitude = company['offices'][i]['longitude']\n",
    "        latitude = company['offices'][i]['latitude']\n",
    "        loc = {\n",
    "            'type':'Point',\n",
    "            'coordinates':[longitude, latitude]\n",
    "        }\n",
    "        location_empty.append(loc)\n",
    "    return location_empty"
   ]
  },
  {
   "cell_type": "code",
   "execution_count": 16,
   "metadata": {},
   "outputs": [],
   "source": [
    "for company in rest:\n",
    "    value = {\"$set\": {'location':getLocation(company)}}\n",
    "    coll.update_one(company,value)"
   ]
  },
  {
   "cell_type": "code",
   "execution_count": 17,
   "metadata": {},
   "outputs": [],
   "source": [
    "for company in rest:\n",
    "    value = {\"$unset\": {'offices.latitude':''}}\n",
    "    value = {\"$unset\": {'offices.longitude':''}}\n",
    "    coll.update_one(company,value)"
   ]
  },
  {
   "cell_type": "code",
   "execution_count": 37,
   "metadata": {},
   "outputs": [],
   "source": [
    "pipeline = [{\"$unwind\":\"$offices\"},{\"$match\":{\"$and\":[{\"offices.city\":\"Los Angeles\"},{\"funding_rounds.raised_amount\":{\"$gte\":1000000}},{\"deadpooled_year\":None}]}}]"
   ]
  },
  {
   "cell_type": "code",
   "execution_count": 38,
   "metadata": {},
   "outputs": [],
   "source": [
    "query = list(coll.aggregate(pipeline))"
   ]
  },
  {
   "cell_type": "code",
   "execution_count": 39,
   "metadata": {},
   "outputs": [],
   "source": [
    "df_filtered = pd.DataFrame(query)"
   ]
  },
  {
   "cell_type": "code",
   "execution_count": 42,
   "metadata": {},
   "outputs": [],
   "source": [
    "data = df_filtered[\"offices\"]"
   ]
  },
  {
   "cell_type": "code",
   "execution_count": 43,
   "metadata": {},
   "outputs": [
    {
     "data": {
      "text/plain": [
       "[None,\n",
       " None,\n",
       " 34.050887,\n",
       " None,\n",
       " 34.031276,\n",
       " 33.982431,\n",
       " None,\n",
       " 34.047312,\n",
       " 34.051368,\n",
       " None,\n",
       " 37.446823,\n",
       " 34.043948,\n",
       " None,\n",
       " 34.052187,\n",
       " 34.044939,\n",
       " None,\n",
       " 34.085749,\n",
       " 34.052187,\n",
       " 34.029956,\n",
       " 34.0815238,\n",
       " 33.934558,\n",
       " None,\n",
       " None,\n",
       " None,\n",
       " 33.946285,\n",
       " None,\n",
       " 33.946285,\n",
       " None,\n",
       " 34.1030032,\n",
       " 34.062164,\n",
       " None,\n",
       " 34.064286,\n",
       " 34.0240159,\n",
       " None,\n",
       " 33.9874429,\n",
       " 33.9782287,\n",
       " 33.9782287,\n",
       " 34.054212,\n",
       " 34.146503,\n",
       " 34.1012181,\n",
       " None,\n",
       " None,\n",
       " 34.0522342,\n",
       " 34.054318,\n",
       " 34.0137151,\n",
       " None,\n",
       " None]"
      ]
     },
     "execution_count": 43,
     "metadata": {},
     "output_type": "execute_result"
    }
   ],
   "source": [
    "latitude = []\n",
    "for key, value in data.items():\n",
    "    latitude.append(value[\"latitude\"])\n",
    "latitude"
   ]
  },
  {
   "cell_type": "code",
   "execution_count": null,
   "metadata": {},
   "outputs": [],
   "source": []
  }
 ],
 "metadata": {
  "kernelspec": {
   "display_name": "Python 3",
   "language": "python",
   "name": "python3"
  },
  "language_info": {
   "codemirror_mode": {
    "name": "ipython",
    "version": 3
   },
   "file_extension": ".py",
   "mimetype": "text/x-python",
   "name": "python",
   "nbconvert_exporter": "python",
   "pygments_lexer": "ipython3",
   "version": "3.7.5"
  }
 },
 "nbformat": 4,
 "nbformat_minor": 2
}
