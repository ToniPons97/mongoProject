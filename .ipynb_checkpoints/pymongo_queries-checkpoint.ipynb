{
 "cells": [
  {
   "cell_type": "code",
   "execution_count": 11,
   "metadata": {},
   "outputs": [],
   "source": [
    "from pymongo import MongoClient"
   ]
  },
  {
   "cell_type": "code",
   "execution_count": 12,
   "metadata": {},
   "outputs": [],
   "source": [
    "def connectCollection(database, collection):\n",
    "    client = MongoClient()\n",
    "    db = client[database]\n",
    "    coll = db[collection]\n",
    "    return db, coll"
   ]
  },
  {
   "cell_type": "code",
   "execution_count": 13,
   "metadata": {},
   "outputs": [],
   "source": [
    "db, coll = connectCollection(\"mongoProjectDB\", \"companies\")"
   ]
  },
  {
   "cell_type": "code",
   "execution_count": 18,
   "metadata": {},
   "outputs": [],
   "source": [
    "rest = list(coll.find({\"offices.city\": \"Los Angeles\"}))\n"
   ]
  },
  {
   "cell_type": "code",
   "execution_count": 15,
   "metadata": {},
   "outputs": [],
   "source": [
    "def getLocation(company):\n",
    "    location_empty = []\n",
    "    for i in range(len(company[\"offices\"])):\n",
    "        longitude = company['offices'][i]['longitude']\n",
    "        latitude = company['offices'][i]['latitude']\n",
    "        loc = {\n",
    "            'type':'Point',\n",
    "            'coordinates':[longitude, latitude]\n",
    "        }\n",
    "        location_empty.append(loc)\n",
    "    return location_empty"
   ]
  },
  {
   "cell_type": "code",
   "execution_count": 16,
   "metadata": {},
   "outputs": [],
   "source": [
    "for company in rest:\n",
    "    value = {\"$set\": {'location':getLocation(company)}}\n",
    "    coll.update_one(company,value)"
   ]
  },
  {
   "cell_type": "code",
   "execution_count": 17,
   "metadata": {},
   "outputs": [],
   "source": [
    "for company in rest:\n",
    "    value = {\"$unset\": {'offices.latitude':''}}\n",
    "    value = {\"$unset\": {'offices.longitude':''}}\n",
    "    coll.update_one(company,value)"
   ]
  },
  {
   "cell_type": "code",
   "execution_count": null,
   "metadata": {},
   "outputs": [],
   "source": [
    "{$and:[{\"offices.city\":\"Los Angeles\"}, {category_code:{$in:[\"games_video\", \"design\"]}},{deadpooled_year:null}]}"
   ]
  }
 ],
 "metadata": {
  "kernelspec": {
   "display_name": "Python 3",
   "language": "python",
   "name": "python3"
  },
  "language_info": {
   "codemirror_mode": {
    "name": "ipython",
    "version": 3
   },
   "file_extension": ".py",
   "mimetype": "text/x-python",
   "name": "python",
   "nbconvert_exporter": "python",
   "pygments_lexer": "ipython3",
   "version": "3.7.5"
  }
 },
 "nbformat": 4,
 "nbformat_minor": 2
}
